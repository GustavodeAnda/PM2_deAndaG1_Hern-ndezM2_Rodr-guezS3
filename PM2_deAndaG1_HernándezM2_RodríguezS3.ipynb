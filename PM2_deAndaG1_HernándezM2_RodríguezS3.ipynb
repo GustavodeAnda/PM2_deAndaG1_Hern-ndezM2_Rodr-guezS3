{
 "cells": [
  {
   "cell_type": "code",
   "execution_count": 2,
   "id": "57933358",
   "metadata": {},
   "outputs": [
    {
     "ename": "ModuleNotFoundError",
     "evalue": "No module named 'pandas_datareader'",
     "output_type": "error",
     "traceback": [
      "\u001b[1;31m---------------------------------------------------------------------------\u001b[0m",
      "\u001b[1;31mModuleNotFoundError\u001b[0m                       Traceback (most recent call last)",
      "Input \u001b[1;32mIn [2]\u001b[0m, in \u001b[0;36m<cell line: 2>\u001b[1;34m()\u001b[0m\n\u001b[0;32m      1\u001b[0m \u001b[38;5;28;01mimport\u001b[39;00m \u001b[38;5;21;01mpandas\u001b[39;00m \u001b[38;5;28;01mas\u001b[39;00m \u001b[38;5;21;01mpd\u001b[39;00m\n\u001b[1;32m----> 2\u001b[0m \u001b[38;5;28;01mimport\u001b[39;00m \u001b[38;5;21;01mpandas_datareader\u001b[39;00m \u001b[38;5;28;01mas\u001b[39;00m \u001b[38;5;21;01mweb\u001b[39;00m\n\u001b[0;32m      3\u001b[0m \u001b[38;5;28;01mimport\u001b[39;00m \u001b[38;5;21;01mmatplotlib\u001b[39;00m\u001b[38;5;21;01m.\u001b[39;00m\u001b[38;5;21;01mpyplot\u001b[39;00m \u001b[38;5;28;01mas\u001b[39;00m \u001b[38;5;21;01mplt\u001b[39;00m\n\u001b[0;32m      4\u001b[0m \u001b[38;5;28;01mimport\u001b[39;00m \u001b[38;5;21;01mnumpy\u001b[39;00m \u001b[38;5;28;01mas\u001b[39;00m \u001b[38;5;21;01mnp\u001b[39;00m\n",
      "\u001b[1;31mModuleNotFoundError\u001b[0m: No module named 'pandas_datareader'"
     ]
    }
   ],
   "source": [
    "import pandas as pd\n",
    "import pandas_datareader as web\n",
    "import matplotlib.pyplot as plt\n",
    "import numpy as np"
   ]
  },
  {
   "cell_type": "code",
   "execution_count": null,
   "id": "b1d7cf08",
   "metadata": {},
   "outputs": [],
   "source": [
    "def get_close(names, start, end):\n",
    "    closes = web.DataReader(names, 'yahoo', start, end)\n",
    "    return closes['Adj Close'] "
   ]
  },
  {
   "cell_type": "code",
   "execution_count": null,
   "id": "f70aff7a",
   "metadata": {},
   "outputs": [],
   "source": [
    "# Descargamos datos...\n",
    "names = ['AAPL', 'MSFT','GOOG','TSLA']\n",
    "start = '24/10/2021'\n",
    "end = '24/10/2022'\n",
    "\n",
    "precios = get_close(names, start, end)"
   ]
  },
  {
   "cell_type": "code",
   "execution_count": null,
   "id": "59d26928",
   "metadata": {},
   "outputs": [],
   "source": [
    "# graficos\n",
    "precios.plot(figsize=(15,8))"
   ]
  },
  {
   "cell_type": "code",
   "execution_count": null,
   "id": "6e936496",
   "metadata": {},
   "outputs": [],
   "source": [
    "ret = precios.pct_change()\n",
    "ret.plot(figsize=(15, 8), title = 'rendimientos simples')\n",
    "\n",
    "ret2 = np.log(precios/precios.shift())\n",
    "ret2.plot(figsize=(15, 8), title='rendimientos log')"
   ]
  },
  {
   "cell_type": "code",
   "execution_count": null,
   "id": "7294e3af",
   "metadata": {},
   "outputs": [],
   "source": [
    "ret.hist(bins=50, figsize=(10,5))"
   ]
  },
  {
   "cell_type": "code",
   "execution_count": null,
   "id": "56e99334",
   "metadata": {},
   "outputs": [],
   "source": [
    "mu_AAPL = ret['AAPL'].mean()\n",
    "mu_MSFT = ret['MSFT'].mean()\n",
    "mu_GOOG = ret['GOOG'].mean()\n",
    "mu_TSLA = ret['TSLA'].mean()\n",
    "\n",
    "std_AAPL = ret['AAPL'].std()\n",
    "std_MSFT = ret['MSFT'].std()\n",
    "std_GOOG = ret['GOOG'].std()\n",
    "std_TSLA = ret['TSLA'].std()"
   ]
  },
  {
   "cell_type": "code",
   "execution_count": null,
   "id": "13ee25ed",
   "metadata": {},
   "outputs": [],
   "source": [
    "N = 1000\n",
    "plt.hist(std_AAPL * np.random.randn(N)+mu_AAPL, bins=50)"
   ]
  },
  {
   "cell_type": "code",
   "execution_count": null,
   "id": "6f454cf1",
   "metadata": {},
   "outputs": [],
   "source": [
    "N = 1000\n",
    "plt.hist(std_MSFT * np.random.randn(N)+mu_MSFT, bins=50)"
   ]
  },
  {
   "cell_type": "code",
   "execution_count": null,
   "id": "d674c6ba",
   "metadata": {},
   "outputs": [],
   "source": [
    "N = 1000\n",
    "plt.hist(std_GOOG * np.random.randn(N)+mu_GOOG, bins=50)"
   ]
  },
  {
   "cell_type": "code",
   "execution_count": null,
   "id": "078159e9",
   "metadata": {},
   "outputs": [],
   "source": [
    "N = 1000\n",
    "plt.hist(std_TSLA * np.random.randn(N)+mu_TSLA, bins=50)"
   ]
  },
  {
   "cell_type": "code",
   "execution_count": null,
   "id": "e687e91c",
   "metadata": {},
   "outputs": [],
   "source": [
    "#simularemos los escenarios con los rendimientos diarios de cada acción\n",
    "\n",
    "def sim_rend(mu, std, ndays, nscen, start_date):\n",
    "    \n",
    "    #Generaremos un rango de fechas\n",
    "    fechas = pd.date_range(start_date, periods=ndias, freq='B')\n",
    "    \n",
    "    #Generar la predicción de los rendimientos en la distribución normal\n",
    "    datos = std * np.random.randn(ndays, nscen) + mu\n",
    "    \n",
    "    #Dataframe\n",
    "    rendimientos_simulados = pd.DataFrame(datos, index=fechas)\n",
    "    \n",
    "    return rendimientos_simulados"
   ]
  },
  {
   "cell_type": "code",
   "execution_count": null,
   "id": "b3e2c2c4",
   "metadata": {},
   "outputs": [],
   "source": [
    "#Se simularán 200 escenarios para un año para todas las empresas\n",
    "ndays = 365\n",
    "nscen = 200\n",
    "start_date = '31/10/2022'\n",
    "\n"
   ]
  },
  {
   "cell_type": "code",
   "execution_count": null,
   "id": "1999e278",
   "metadata": {},
   "outputs": [],
   "source": [
    "#TESLA\n",
    "rend_simu_TSLA  = sim_rend(mu_TSLA, std_TSLA, ndays, nscen, start_date)\n",
    "rend_simu_TSLA"
   ]
  },
  {
   "cell_type": "code",
   "execution_count": null,
   "id": "661c18e4",
   "metadata": {},
   "outputs": [],
   "source": [
    "#APPLE\n",
    "rend_simu_AAPL  = sim_rend(mu_AAPL, std_AAPL, ndays, nscen, start_date)\n",
    "rend_simu_AAPL"
   ]
  },
  {
   "cell_type": "code",
   "execution_count": null,
   "id": "3f1e392c",
   "metadata": {},
   "outputs": [],
   "source": [
    "#MICROSOFT\n",
    "rend_simu_MSFT  = sim_rend(mu_MSFT, std_MSFT, ndays, nscen, start_date)\n",
    "rend_simu_MSFT"
   ]
  },
  {
   "cell_type": "code",
   "execution_count": null,
   "id": "cfba6c71",
   "metadata": {},
   "outputs": [],
   "source": [
    "#GOOGLE\n",
    "rend_simu_GOOG  = sim_rend(mu_GOOG, std_GOOG, ndays, nscen, start_date)\n",
    "rend_simu_GOOG"
   ]
  }
 ],
 "metadata": {
  "kernelspec": {
   "display_name": "Python 3 (ipykernel)",
   "language": "python",
   "name": "python3"
  },
  "language_info": {
   "codemirror_mode": {
    "name": "ipython",
    "version": 3
   },
   "file_extension": ".py",
   "mimetype": "text/x-python",
   "name": "python",
   "nbconvert_exporter": "python",
   "pygments_lexer": "ipython3",
   "version": "3.9.12"
  }
 },
 "nbformat": 4,
 "nbformat_minor": 5
}
